{
  "nbformat": 4,
  "nbformat_minor": 0,
  "metadata": {
    "colab": {
      "name": "Deep Learning-classificatoin .ipynb",
      "provenance": [],
      "authorship_tag": "ABX9TyOUX0OEowhydsxQ9SLtT9iS",
      "include_colab_link": true
    },
    "kernelspec": {
      "name": "python3",
      "display_name": "Python 3"
    }
  },
  "cells": [
    {
      "cell_type": "markdown",
      "metadata": {
        "id": "view-in-github",
        "colab_type": "text"
      },
      "source": [
        "<a href=\"https://colab.research.google.com/github/aida1986/introtodeeplearning/blob/master/Deep_Learning_classificatoin_.ipynb\" target=\"_parent\"><img src=\"https://colab.research.google.com/assets/colab-badge.svg\" alt=\"Open In Colab\"/></a>"
      ]
    },
    {
      "cell_type": "code",
      "metadata": {
        "id": "UKFC-aWbN6bu",
        "outputId": "07349d76-131f-4a26-e6a1-310a7bb7194a",
        "colab": {
          "base_uri": "https://localhost:8080/"
        }
      },
      "source": [
        "pip install -U tensorflow_datasets"
      ],
      "execution_count": null,
      "outputs": [
        {
          "output_type": "stream",
          "text": [
            "Requirement already up-to-date: tensorflow_datasets in /usr/local/lib/python3.6/dist-packages (4.1.0)\n",
            "Requirement already satisfied, skipping upgrade: termcolor in /usr/local/lib/python3.6/dist-packages (from tensorflow_datasets) (1.1.0)\n",
            "Requirement already satisfied, skipping upgrade: dataclasses; python_version < \"3.7\" in /usr/local/lib/python3.6/dist-packages (from tensorflow_datasets) (0.7)\n",
            "Requirement already satisfied, skipping upgrade: promise in /usr/local/lib/python3.6/dist-packages (from tensorflow_datasets) (2.3)\n",
            "Requirement already satisfied, skipping upgrade: typing-extensions; python_version < \"3.8\" in /usr/local/lib/python3.6/dist-packages (from tensorflow_datasets) (3.7.4.3)\n",
            "Requirement already satisfied, skipping upgrade: attrs>=18.1.0 in /usr/local/lib/python3.6/dist-packages (from tensorflow_datasets) (20.2.0)\n",
            "Requirement already satisfied, skipping upgrade: dill in /usr/local/lib/python3.6/dist-packages (from tensorflow_datasets) (0.3.3)\n",
            "Requirement already satisfied, skipping upgrade: numpy in /usr/local/lib/python3.6/dist-packages (from tensorflow_datasets) (1.18.5)\n",
            "Requirement already satisfied, skipping upgrade: future in /usr/local/lib/python3.6/dist-packages (from tensorflow_datasets) (0.16.0)\n",
            "Requirement already satisfied, skipping upgrade: protobuf>=3.6.1 in /usr/local/lib/python3.6/dist-packages (from tensorflow_datasets) (3.12.4)\n",
            "Requirement already satisfied, skipping upgrade: importlib-resources; python_version < \"3.9\" in /usr/local/lib/python3.6/dist-packages (from tensorflow_datasets) (3.3.0)\n",
            "Requirement already satisfied, skipping upgrade: absl-py in /usr/local/lib/python3.6/dist-packages (from tensorflow_datasets) (0.10.0)\n",
            "Requirement already satisfied, skipping upgrade: tensorflow-metadata in /usr/local/lib/python3.6/dist-packages (from tensorflow_datasets) (0.24.0)\n",
            "Requirement already satisfied, skipping upgrade: six in /usr/local/lib/python3.6/dist-packages (from tensorflow_datasets) (1.15.0)\n",
            "Requirement already satisfied, skipping upgrade: requests>=2.19.0 in /usr/local/lib/python3.6/dist-packages (from tensorflow_datasets) (2.23.0)\n",
            "Requirement already satisfied, skipping upgrade: tqdm in /usr/local/lib/python3.6/dist-packages (from tensorflow_datasets) (4.41.1)\n",
            "Requirement already satisfied, skipping upgrade: setuptools in /usr/local/lib/python3.6/dist-packages (from protobuf>=3.6.1->tensorflow_datasets) (50.3.2)\n",
            "Requirement already satisfied, skipping upgrade: zipp>=0.4; python_version < \"3.8\" in /usr/local/lib/python3.6/dist-packages (from importlib-resources; python_version < \"3.9\"->tensorflow_datasets) (3.4.0)\n",
            "Requirement already satisfied, skipping upgrade: googleapis-common-protos<2,>=1.52.0 in /usr/local/lib/python3.6/dist-packages (from tensorflow-metadata->tensorflow_datasets) (1.52.0)\n",
            "Requirement already satisfied, skipping upgrade: certifi>=2017.4.17 in /usr/local/lib/python3.6/dist-packages (from requests>=2.19.0->tensorflow_datasets) (2020.6.20)\n",
            "Requirement already satisfied, skipping upgrade: chardet<4,>=3.0.2 in /usr/local/lib/python3.6/dist-packages (from requests>=2.19.0->tensorflow_datasets) (3.0.4)\n",
            "Requirement already satisfied, skipping upgrade: urllib3!=1.25.0,!=1.25.1,<1.26,>=1.21.1 in /usr/local/lib/python3.6/dist-packages (from requests>=2.19.0->tensorflow_datasets) (1.24.3)\n",
            "Requirement already satisfied, skipping upgrade: idna<3,>=2.5 in /usr/local/lib/python3.6/dist-packages (from requests>=2.19.0->tensorflow_datasets) (2.10)\n"
          ],
          "name": "stdout"
        }
      ]
    },
    {
      "cell_type": "code",
      "metadata": {
        "id": "lV76JJEJOZ3b",
        "outputId": "f9d2476b-59bb-41c7-c1fe-36515e9334a8",
        "colab": {
          "base_uri": "https://localhost:8080/"
        }
      },
      "source": [
        "from __future__ import  absolute_import, division, print_function\n",
        "\n",
        "#import tensorflow and tensorflow dataset \n",
        "import tensorflow as tf \n",
        "import tensorflow_datasets as tfds\n",
        "\n",
        "#helper libraries \n",
        "import math \n",
        "import numpy as np \n",
        "import matplotlib.pyplot as plt\n",
        "\n",
        "#improve progress bar display \n",
        "import tqdm \n",
        "import tqdm.auto\n",
        "tqdm.tqdm = tqdm.auto.tqdm\n",
        "\n",
        "print (tf.__version__)\n",
        "tf.compat.v1.enable_eager_execution()"
      ],
      "execution_count": 1,
      "outputs": [
        {
          "output_type": "stream",
          "text": [
            "2.3.0\n"
          ],
          "name": "stdout"
        }
      ]
    },
    {
      "cell_type": "code",
      "metadata": {
        "id": "psYvJ6PUQGc1",
        "outputId": "d3a1bb9c-ec54-4792-d970-fc9e77da008d",
        "colab": {
          "base_uri": "https://localhost:8080/"
        }
      },
      "source": [
        "fashion_mnist = tf.keras.datasets.fashion_mnist\n",
        "\n",
        "(train_images, train_labels), (test_images, test_labels) = fashion_mnist.load_data()\n",
        "# dataset, metadata= tfds.load(\"fashion_mnist\", as_supervised=True, with_info=True)\n",
        "# train_dataset, test_dataset= dataset [\"train\"],dataset[\"test\"]"
      ],
      "execution_count": 2,
      "outputs": [
        {
          "output_type": "stream",
          "text": [
            "Downloading data from https://storage.googleapis.com/tensorflow/tf-keras-datasets/train-labels-idx1-ubyte.gz\n",
            "32768/29515 [=================================] - 0s 0us/step\n",
            "Downloading data from https://storage.googleapis.com/tensorflow/tf-keras-datasets/train-images-idx3-ubyte.gz\n",
            "26427392/26421880 [==============================] - 0s 0us/step\n",
            "Downloading data from https://storage.googleapis.com/tensorflow/tf-keras-datasets/t10k-labels-idx1-ubyte.gz\n",
            "8192/5148 [===============================================] - 0s 0us/step\n",
            "Downloading data from https://storage.googleapis.com/tensorflow/tf-keras-datasets/t10k-images-idx3-ubyte.gz\n",
            "4423680/4422102 [==============================] - 0s 0us/step\n"
          ],
          "name": "stdout"
        }
      ]
    },
    {
      "cell_type": "code",
      "metadata": {
        "id": "SNQ9ndjVRdzy"
      },
      "source": [
        "class_names = ['T-shirt/top', 'Trouser', 'Pullover', 'Dress', 'Coat',\n",
        "               'Sandal', 'Shirt', 'Sneaker', 'Bag', 'Ankle boot']"
      ],
      "execution_count": 4,
      "outputs": []
    },
    {
      "cell_type": "code",
      "metadata": {
        "id": "Tv0TahAiVkNy",
        "outputId": "a177f6bc-121e-4a45-c413-05e7bac802e9",
        "colab": {
          "base_uri": "https://localhost:8080/"
        }
      },
      "source": [
        "train_images.shape"
      ],
      "execution_count": 5,
      "outputs": [
        {
          "output_type": "execute_result",
          "data": {
            "text/plain": [
              "(60000, 28, 28)"
            ]
          },
          "metadata": {
            "tags": []
          },
          "execution_count": 5
        }
      ]
    },
    {
      "cell_type": "code",
      "metadata": {
        "id": "iykioRW2WCDa",
        "outputId": "a0076a31-970e-4a14-cc4d-f9f96f6b6f7d",
        "colab": {
          "base_uri": "https://localhost:8080/"
        }
      },
      "source": [
        "len (train_labels)"
      ],
      "execution_count": 6,
      "outputs": [
        {
          "output_type": "execute_result",
          "data": {
            "text/plain": [
              "60000"
            ]
          },
          "metadata": {
            "tags": []
          },
          "execution_count": 6
        }
      ]
    },
    {
      "cell_type": "code",
      "metadata": {
        "id": "FDFfy4iuWKKi",
        "outputId": "621fd02d-3d51-4108-cde5-f477d3a155ca",
        "colab": {
          "base_uri": "https://localhost:8080/"
        }
      },
      "source": [
        "test_images.shape"
      ],
      "execution_count": 7,
      "outputs": [
        {
          "output_type": "execute_result",
          "data": {
            "text/plain": [
              "(10000, 28, 28)"
            ]
          },
          "metadata": {
            "tags": []
          },
          "execution_count": 7
        }
      ]
    },
    {
      "cell_type": "code",
      "metadata": {
        "id": "yjn6u-eNXIRB",
        "outputId": "910974f1-6899-4222-a941-c0bd0941da2b",
        "colab": {
          "base_uri": "https://localhost:8080/"
        }
      },
      "source": [
        "len(test_labels)"
      ],
      "execution_count": 8,
      "outputs": [
        {
          "output_type": "execute_result",
          "data": {
            "text/plain": [
              "10000"
            ]
          },
          "metadata": {
            "tags": []
          },
          "execution_count": 8
        }
      ]
    },
    {
      "cell_type": "code",
      "metadata": {
        "id": "W46FB3npXKz-",
        "outputId": "fa5fc286-db95-495f-d597-f6d907d564cd",
        "colab": {
          "base_uri": "https://localhost:8080/",
          "height": 265
        }
      },
      "source": [
        "plt.figure()\n",
        "plt.imshow(train_images[0])\n",
        "plt.colorbar()\n",
        "plt.grid(False)\n",
        "plt.show()"
      ],
      "execution_count": 9,
      "outputs": [
        {
          "output_type": "display_data",
          "data": {
            "image/png": "[encoded data removed]",
            "text/plain": [
              "<Figure size 432x288 with 2 Axes>"
            ]
          },
          "metadata": {
            "tags": [],
            "needs_background": "light"
          }
        }
      ]
    },
    {
      "cell_type": "code",
      "metadata": {
        "id": "zVIlwsQrXZ21"
      },
      "source": [
        "train_images = train_images / 255.0\n",
        "\n",
        "test_images = test_images / 255.0"
      ],
      "execution_count": 10,
      "outputs": []
    },
    {
      "cell_type": "code",
      "metadata": {
        "id": "PzFRm3_2Y6kR",
        "outputId": "c8ff7ea7-af36-42f8-8176-c135ba1abe9b",
        "colab": {
          "base_uri": "https://localhost:8080/",
          "height": 589
        }
      },
      "source": [
        "plt.figure(figsize=(10,10))\n",
        "for i in range(25):\n",
        "    plt.subplot(5,5,i+1)\n",
        "    plt.xticks([])\n",
        "    plt.yticks([])\n",
        "    plt.grid(False)\n",
        "    plt.imshow(train_images[i], cmap=plt.cm.binary)\n",
        "    plt.xlabel(class_names[train_labels[i]])\n",
        "plt.show()\n",
        "\n"
      ],
      "execution_count": 11,
      "outputs": [
        {
          "output_type": "display_data",
          "data": {
            "image/png": "[encoded data removed]",
            "text/plain": [
              "<Figure size 720x720 with 25 Axes>"
            ]
          },
          "metadata": {
            "tags": []
          }
        }
      ]
    },
    {
      "cell_type": "code",
      "metadata": {
        "id": "8Hgij0sCbaNy"
      },
      "source": [
        "#Build the model\n",
        "#set up layers\n",
        "model = tf.keras.Sequential([\n",
        "    tf.keras.layers.Flatten(input_shape=(28, 28)),\n",
        "    tf.keras.layers.Dense(128, activation='relu'),\n",
        "    tf.keras.layers.Dense(10)\n",
        "])"
      ],
      "execution_count": 12,
      "outputs": []
    },
    {
      "cell_type": "code",
      "metadata": {
        "id": "2HZrPlhjbnFE"
      },
      "source": [
        "model.compile( optimizer=\"Adam\", loss=tf.keras.losses.SparseCategoricalCrossentropy(from_logits=True),\n",
        "              metrics=[\"accuracy\"])"
      ],
      "execution_count": 13,
      "outputs": []
    },
    {
      "cell_type": "code",
      "metadata": {
        "id": "OBerQL97dHfo",
        "outputId": "b7f663b6-a097-4155-8b57-61aba26a1952",
        "colab": {
          "base_uri": "https://localhost:8080/"
        }
      },
      "source": [
        "model.fit(train_images, train_labels, epochs=10)"
      ],
      "execution_count": 14,
      "outputs": [
        {
          "output_type": "stream",
          "text": [
            "Epoch 1/10\n",
            "1875/1875 [==============================] - 3s 2ms/step - loss: 0.4968 - accuracy: 0.8245\n",
            "Epoch 2/10\n",
            "1875/1875 [==============================] - 3s 2ms/step - loss: 0.3759 - accuracy: 0.8631\n",
            "Epoch 3/10\n",
            "1875/1875 [==============================] - 3s 2ms/step - loss: 0.3403 - accuracy: 0.8764\n",
            "Epoch 4/10\n",
            "1875/1875 [==============================] - 3s 2ms/step - loss: 0.3150 - accuracy: 0.8839\n",
            "Epoch 5/10\n",
            "1875/1875 [==============================] - 3s 2ms/step - loss: 0.2992 - accuracy: 0.8896\n",
            "Epoch 6/10\n",
            "1875/1875 [==============================] - 3s 2ms/step - loss: 0.2830 - accuracy: 0.8962\n",
            "Epoch 7/10\n",
            "1875/1875 [==============================] - 3s 2ms/step - loss: 0.2707 - accuracy: 0.9007\n",
            "Epoch 8/10\n",
            "1875/1875 [==============================] - 3s 2ms/step - loss: 0.2592 - accuracy: 0.9043\n",
            "Epoch 9/10\n",
            "1875/1875 [==============================] - 3s 2ms/step - loss: 0.2506 - accuracy: 0.9077\n",
            "Epoch 10/10\n",
            "1875/1875 [==============================] - 3s 2ms/step - loss: 0.2412 - accuracy: 0.9098\n"
          ],
          "name": "stdout"
        },
        {
          "output_type": "execute_result",
          "data": {
            "text/plain": [
              "<tensorflow.python.keras.callbacks.History at 0x7f98b0337828>"
            ]
          },
          "metadata": {
            "tags": []
          },
          "execution_count": 14
        }
      ]
    },
    {
      "cell_type": "code",
      "metadata": {
        "id": "jU2i-zzbduFl",
        "outputId": "521d3fc2-79f2-4644-fa87-2a1f2b56876c",
        "colab": {
          "base_uri": "https://localhost:8080/"
        }
      },
      "source": [
        "#evaluate accuracy with comparing how the model perform in test datasets \n",
        "test_loss, test_acc= model.evaluate(test_images, test_labels, verbose=2)\n",
        "print (\"\\n Test accuracy\", test_acc)"
      ],
      "execution_count": 15,
      "outputs": [
        {
          "output_type": "stream",
          "text": [
            "313/313 - 0s - loss: 0.3532 - accuracy: 0.8799\n",
            "\n",
            " Test accuracy 0.8798999786376953\n"
          ],
          "name": "stdout"
        }
      ]
    },
    {
      "cell_type": "code",
      "metadata": {
        "id": "GigwjABNvYF-",
        "outputId": "c111401e-55f8-4b4d-8b0d-493456f74cb1",
        "colab": {
          "base_uri": "https://localhost:8080/"
        }
      },
      "source": [
        "probability_model = tf.keras.Sequential([model, \n",
        "                                         tf.keras.layers.Softmax()])\n",
        "prediction= probability_model.predict(test_images)\n",
        "prediction [0]"
      ],
      "execution_count": 23,
      "outputs": [
        {
          "output_type": "execute_result",
          "data": {
            "text/plain": [
              "array([1.8533713e-08, 1.7686678e-12, 1.4913788e-10, 1.8203210e-11,\n",
              "       1.1825924e-09, 9.1833457e-02, 2.0654951e-09, 2.5332477e-03,\n",
              "       6.1747736e-09, 9.0563333e-01], dtype=float32)"
            ]
          },
          "metadata": {
            "tags": []
          },
          "execution_count": 23
        }
      ]
    },
    {
      "cell_type": "code",
      "metadata": {
        "id": "v5Qz3hrVybCG",
        "outputId": "f413656a-6ec3-45f0-f7e0-16e6baf964a8",
        "colab": {
          "base_uri": "https://localhost:8080/"
        }
      },
      "source": [
        "np.argmax(prediction[0])"
      ],
      "execution_count": 25,
      "outputs": [
        {
          "output_type": "execute_result",
          "data": {
            "text/plain": [
              "9"
            ]
          },
          "metadata": {
            "tags": []
          },
          "execution_count": 25
        }
      ]
    },
    {
      "cell_type": "code",
      "metadata": {
        "id": "9KX_j8W70_vm",
        "outputId": "943d807d-2bfd-4501-a187-049770f79b67",
        "colab": {
          "base_uri": "https://localhost:8080/",
          "height": 436
        }
      },
      "source": [
        "i = 0\n",
        "plt.figure(figsize=(6,3))\n",
        "plt.subplot(1,2,1)\n",
        "plot_image(i, prediction[i], test_labels, test_images)\n",
        "plt.subplot(1,2,2)\n",
        "plot_value_array(i, prediction[i],  test_labels)\n",
        "plt.show()"
      ],
      "execution_count": 28,
      "outputs": [
        {
          "output_type": "error",
          "ename": "NameError",
          "evalue": "ignored",
          "traceback": [
            "\u001b[0;31m---------------------------------------------------------------------------\u001b[0m",
            "\u001b[0;31mNameError\u001b[0m                                 Traceback (most recent call last)",
            "\u001b[0;32m<ipython-input-28-afb410ee5dea>\u001b[0m in \u001b[0;36m<module>\u001b[0;34m()\u001b[0m\n\u001b[1;32m      2\u001b[0m \u001b[0mplt\u001b[0m\u001b[0;34m.\u001b[0m\u001b[0mfigure\u001b[0m\u001b[0;34m(\u001b[0m\u001b[0mfigsize\u001b[0m\u001b[0;34m=\u001b[0m\u001b[0;34m(\u001b[0m\u001b[0;36m6\u001b[0m\u001b[0;34m,\u001b[0m\u001b[0;36m3\u001b[0m\u001b[0;34m)\u001b[0m\u001b[0;34m)\u001b[0m\u001b[0;34m\u001b[0m\u001b[0;34m\u001b[0m\u001b[0m\n\u001b[1;32m      3\u001b[0m \u001b[0mplt\u001b[0m\u001b[0;34m.\u001b[0m\u001b[0msubplot\u001b[0m\u001b[0;34m(\u001b[0m\u001b[0;36m1\u001b[0m\u001b[0;34m,\u001b[0m\u001b[0;36m2\u001b[0m\u001b[0;34m,\u001b[0m\u001b[0;36m1\u001b[0m\u001b[0;34m)\u001b[0m\u001b[0;34m\u001b[0m\u001b[0;34m\u001b[0m\u001b[0m\n\u001b[0;32m----> 4\u001b[0;31m \u001b[0mplot_image\u001b[0m\u001b[0;34m(\u001b[0m\u001b[0mi\u001b[0m\u001b[0;34m,\u001b[0m \u001b[0mprediction\u001b[0m\u001b[0;34m[\u001b[0m\u001b[0mi\u001b[0m\u001b[0;34m]\u001b[0m\u001b[0;34m,\u001b[0m \u001b[0mtest_labels\u001b[0m\u001b[0;34m,\u001b[0m \u001b[0mtest_images\u001b[0m\u001b[0;34m)\u001b[0m\u001b[0;34m\u001b[0m\u001b[0;34m\u001b[0m\u001b[0m\n\u001b[0m\u001b[1;32m      5\u001b[0m \u001b[0mplt\u001b[0m\u001b[0;34m.\u001b[0m\u001b[0msubplot\u001b[0m\u001b[0;34m(\u001b[0m\u001b[0;36m1\u001b[0m\u001b[0;34m,\u001b[0m\u001b[0;36m2\u001b[0m\u001b[0;34m,\u001b[0m\u001b[0;36m2\u001b[0m\u001b[0;34m)\u001b[0m\u001b[0;34m\u001b[0m\u001b[0;34m\u001b[0m\u001b[0m\n\u001b[1;32m      6\u001b[0m \u001b[0mplot_value_array\u001b[0m\u001b[0;34m(\u001b[0m\u001b[0mi\u001b[0m\u001b[0;34m,\u001b[0m \u001b[0mprediction\u001b[0m\u001b[0;34m[\u001b[0m\u001b[0mi\u001b[0m\u001b[0;34m]\u001b[0m\u001b[0;34m,\u001b[0m  \u001b[0mtest_labels\u001b[0m\u001b[0;34m)\u001b[0m\u001b[0;34m\u001b[0m\u001b[0;34m\u001b[0m\u001b[0m\n",
            "\u001b[0;31mNameError\u001b[0m: name 'plot_image' is not defined"
          ]
        },
        {
          "output_type": "display_data",
          "data": {
            "image/png": "[encoded data removed]",
            "text/plain": [
              "<Figure size 432x216 with 1 Axes>"
            ]
          },
          "metadata": {
            "tags": [],
            "needs_background": "light"
          }
        }
      ]
    },
    {
      "cell_type": "code",
      "metadata": {
        "id": "2gWhkB4MzLlL",
        "outputId": "415e2dcf-afad-4a9a-e842-151022d3d990",
        "colab": {
          "base_uri": "https://localhost:8080/"
        }
      },
      "source": [
        "test_labels[0]"
      ],
      "execution_count": 26,
      "outputs": [
        {
          "output_type": "execute_result",
          "data": {
            "text/plain": [
              "9"
            ]
          },
          "metadata": {
            "tags": []
          },
          "execution_count": 26
        }
      ]
    },
    {
      "cell_type": "code",
      "metadata": {
        "id": "r2p2Kdyb1IGa"
      },
      "source": [
        "def plot_image(i, predictions_array, true_label, img):\n",
        "  true_label, img = true_label[i], img[i]\n",
        "  plt.grid(False)\n",
        "  plt.xticks([])\n",
        "  plt.yticks([])\n",
        "\n",
        "  plt.imshow(img, cmap=plt.cm.binary)\n",
        "\n",
        "  predicted_label = np.argmax(predictions_array)\n",
        "  if predicted_label == true_label:\n",
        "    color = 'blue'\n",
        "  else:\n",
        "    color = 'red'\n",
        "\n",
        "  plt.xlabel(\"{} {:2.0f}% ({})\".format(class_names[predicted_label],\n",
        "                                100*np.max(predictions_array),\n",
        "                                class_names[true_label]),\n",
        "                                color=color)\n",
        "\n",
        "def plot_value_array(i, predictions_array, true_label):\n",
        "  true_label = true_label[i]\n",
        "  plt.grid(False)\n",
        "  plt.xticks(range(10))\n",
        "  plt.yticks([])\n",
        "  thisplot = plt.bar(range(10), predictions_array, color=\"#777777\")\n",
        "  plt.ylim([0, 1])\n",
        "  predicted_label = np.argmax(predictions_array)\n",
        "\n",
        "  thisplot[predicted_label].set_color('red')\n",
        "  thisplot[true_label].set_color('blue')"
      ],
      "execution_count": 29,
      "outputs": []
    },
    {
      "cell_type": "code",
      "metadata": {
        "id": "sh2F0TAL1XAK",
        "outputId": "c59dbe9f-1889-4c49-fa57-89e29861fa40",
        "colab": {
          "base_uri": "https://localhost:8080/",
          "height": 211
        }
      },
      "source": [
        "i = 0\n",
        "plt.figure(figsize=(6,3))\n",
        "plt.subplot(1,2,1)\n",
        "plot_image(i, prediction[i], test_labels, test_images)\n",
        "plt.subplot(1,2,2)\n",
        "plot_value_array(i, prediction[i],  test_labels)\n",
        "plt.show()"
      ],
      "execution_count": 31,
      "outputs": [
        {
          "output_type": "display_data",
          "data": {
            "image/png": "[encoded data removed]",
            "text/plain": [
              "<Figure size 432x216 with 2 Axes>"
            ]
          },
          "metadata": {
            "tags": [],
            "needs_background": "light"
          }
        }
      ]
    },
    {
      "cell_type": "code",
      "metadata": {
        "id": "6DPvFQA61aEd",
        "outputId": "78c60c49-eb29-452a-f71c-c881d186b745",
        "colab": {
          "base_uri": "https://localhost:8080/",
          "height": 211
        }
      },
      "source": [
        "i = 12\n",
        "plt.figure(figsize=(6,3))\n",
        "plt.subplot(1,2,1)\n",
        "plot_image(i, prediction[i], test_labels, test_images)\n",
        "plt.subplot(1,2,2)\n",
        "plot_value_array(i, prediction[i],  test_labels)\n",
        "plt.show()"
      ],
      "execution_count": 33,
      "outputs": [
        {
          "output_type": "display_data",
          "data": {
            "image/png": "[encoded data removed]",
            "text/plain": [
              "<Figure size 432x216 with 2 Axes>"
            ]
          },
          "metadata": {
            "tags": [],
            "needs_background": "light"
          }
        }
      ]
    },
    {
      "cell_type": "code",
      "metadata": {
        "id": "LroXeBkL1gBi",
        "outputId": "b765238e-23c8-435f-faa0-2a4413bb8a30",
        "colab": {
          "base_uri": "https://localhost:8080/",
          "height": 729
        }
      },
      "source": [
        "num_rows = 5\n",
        "num_cols = 3\n",
        "num_images = num_rows*num_cols\n",
        "plt.figure(figsize=(2*2*num_cols, 2*num_rows))\n",
        "for i in range(num_images):\n",
        "  plt.subplot(num_rows, 2*num_cols, 2*i+1)\n",
        "  plot_image(i, prediction[i], test_labels, test_images)\n",
        "  plt.subplot(num_rows, 2*num_cols, 2*i+2)\n",
        "  plot_value_array(i, prediction[i], test_labels)\n",
        "plt.tight_layout()\n",
        "plt.show()"
      ],
      "execution_count": 34,
      "outputs": [
        {
          "output_type": "display_data",
          "data": {
            "image/png": "[encoded data removed]",
            "text/plain": [
              "<Figure size 864x720 with 30 Axes>"
            ]
          },
          "metadata": {
            "tags": [],
            "needs_background": "light"
          }
        }
      ]
    },
    {
      "cell_type": "code",
      "metadata": {
        "id": "6XiONWuK1ppf"
      },
      "source": [
        "import numpy as np\n",
        "import pandas as pd\n",
        "import matplotlib.pyplot as plt\n"
      ],
      "execution_count": 77,
      "outputs": []
    },
    {
      "cell_type": "code",
      "metadata": {
        "id": "k1R30cXt7APj",
        "outputId": "d2d40d86-7817-4316-eac3-347d502a124e",
        "colab": {
          "base_uri": "https://localhost:8080/",
          "height": 375
        }
      },
      "source": [
        "#dataset import \n",
        "dataset = pd.read_csv(\"train.csv\")\n",
        "#directory accordingly \n",
        "dataset.head (10)#return just 10 rows\n"
      ],
      "execution_count": 47,
      "outputs": [
        {
          "output_type": "execute_result",
          "data": {
            "text/html": [
              "<div>\n",
              "<style scoped>\n",
              "    .dataframe tbody tr th:only-of-type {\n",
              "        vertical-align: middle;\n",
              "    }\n",
              "\n",
              "    .dataframe tbody tr th {\n",
              "        vertical-align: top;\n",
              "    }\n",
              "\n",
              "    .dataframe thead th {\n",
              "        text-align: right;\n",
              "    }\n",
              "</style>\n",
              "<table border=\"1\" class=\"dataframe\">\n",
              "  <thead>\n",
              "    <tr style=\"text-align: right;\">\n",
              "      <th></th>\n",
              "      <th>battery_power</th>\n",
              "      <th>blue</th>\n",
              "      <th>clock_speed</th>\n",
              "      <th>dual_sim</th>\n",
              "      <th>fc</th>\n",
              "      <th>four_g</th>\n",
              "      <th>int_memory</th>\n",
              "      <th>m_dep</th>\n",
              "      <th>mobile_wt</th>\n",
              "      <th>n_cores</th>\n",
              "      <th>pc</th>\n",
              "      <th>px_height</th>\n",
              "      <th>px_width</th>\n",
              "      <th>ram</th>\n",
              "      <th>sc_h</th>\n",
              "      <th>sc_w</th>\n",
              "      <th>talk_time</th>\n",
              "      <th>three_g</th>\n",
              "      <th>touch_screen</th>\n",
              "      <th>wifi</th>\n",
              "      <th>price_range</th>\n",
              "    </tr>\n",
              "  </thead>\n",
              "  <tbody>\n",
              "    <tr>\n",
              "      <th>0</th>\n",
              "      <td>842</td>\n",
              "      <td>0</td>\n",
              "      <td>2.2</td>\n",
              "      <td>0</td>\n",
              "      <td>1</td>\n",
              "      <td>0</td>\n",
              "      <td>7</td>\n",
              "      <td>0.6</td>\n",
              "      <td>188</td>\n",
              "      <td>2</td>\n",
              "      <td>2</td>\n",
              "      <td>20</td>\n",
              "      <td>756</td>\n",
              "      <td>2549</td>\n",
              "      <td>9</td>\n",
              "      <td>7</td>\n",
              "      <td>19</td>\n",
              "      <td>0</td>\n",
              "      <td>0</td>\n",
              "      <td>1</td>\n",
              "      <td>1</td>\n",
              "    </tr>\n",
              "    <tr>\n",
              "      <th>1</th>\n",
              "      <td>1021</td>\n",
              "      <td>1</td>\n",
              "      <td>0.5</td>\n",
              "      <td>1</td>\n",
              "      <td>0</td>\n",
              "      <td>1</td>\n",
              "      <td>53</td>\n",
              "      <td>0.7</td>\n",
              "      <td>136</td>\n",
              "      <td>3</td>\n",
              "      <td>6</td>\n",
              "      <td>905</td>\n",
              "      <td>1988</td>\n",
              "      <td>2631</td>\n",
              "      <td>17</td>\n",
              "      <td>3</td>\n",
              "      <td>7</td>\n",
              "      <td>1</td>\n",
              "      <td>1</td>\n",
              "      <td>0</td>\n",
              "      <td>2</td>\n",
              "    </tr>\n",
              "    <tr>\n",
              "      <th>2</th>\n",
              "      <td>563</td>\n",
              "      <td>1</td>\n",
              "      <td>0.5</td>\n",
              "      <td>1</td>\n",
              "      <td>2</td>\n",
              "      <td>1</td>\n",
              "      <td>41</td>\n",
              "      <td>0.9</td>\n",
              "      <td>145</td>\n",
              "      <td>5</td>\n",
              "      <td>6</td>\n",
              "      <td>1263</td>\n",
              "      <td>1716</td>\n",
              "      <td>2603</td>\n",
              "      <td>11</td>\n",
              "      <td>2</td>\n",
              "      <td>9</td>\n",
              "      <td>1</td>\n",
              "      <td>1</td>\n",
              "      <td>0</td>\n",
              "      <td>2</td>\n",
              "    </tr>\n",
              "    <tr>\n",
              "      <th>3</th>\n",
              "      <td>615</td>\n",
              "      <td>1</td>\n",
              "      <td>2.5</td>\n",
              "      <td>0</td>\n",
              "      <td>0</td>\n",
              "      <td>0</td>\n",
              "      <td>10</td>\n",
              "      <td>0.8</td>\n",
              "      <td>131</td>\n",
              "      <td>6</td>\n",
              "      <td>9</td>\n",
              "      <td>1216</td>\n",
              "      <td>1786</td>\n",
              "      <td>2769</td>\n",
              "      <td>16</td>\n",
              "      <td>8</td>\n",
              "      <td>11</td>\n",
              "      <td>1</td>\n",
              "      <td>0</td>\n",
              "      <td>0</td>\n",
              "      <td>2</td>\n",
              "    </tr>\n",
              "    <tr>\n",
              "      <th>4</th>\n",
              "      <td>1821</td>\n",
              "      <td>1</td>\n",
              "      <td>1.2</td>\n",
              "      <td>0</td>\n",
              "      <td>13</td>\n",
              "      <td>1</td>\n",
              "      <td>44</td>\n",
              "      <td>0.6</td>\n",
              "      <td>141</td>\n",
              "      <td>2</td>\n",
              "      <td>14</td>\n",
              "      <td>1208</td>\n",
              "      <td>1212</td>\n",
              "      <td>1411</td>\n",
              "      <td>8</td>\n",
              "      <td>2</td>\n",
              "      <td>15</td>\n",
              "      <td>1</td>\n",
              "      <td>1</td>\n",
              "      <td>0</td>\n",
              "      <td>1</td>\n",
              "    </tr>\n",
              "    <tr>\n",
              "      <th>5</th>\n",
              "      <td>1859</td>\n",
              "      <td>0</td>\n",
              "      <td>0.5</td>\n",
              "      <td>1</td>\n",
              "      <td>3</td>\n",
              "      <td>0</td>\n",
              "      <td>22</td>\n",
              "      <td>0.7</td>\n",
              "      <td>164</td>\n",
              "      <td>1</td>\n",
              "      <td>7</td>\n",
              "      <td>1004</td>\n",
              "      <td>1654</td>\n",
              "      <td>1067</td>\n",
              "      <td>17</td>\n",
              "      <td>1</td>\n",
              "      <td>10</td>\n",
              "      <td>1</td>\n",
              "      <td>0</td>\n",
              "      <td>0</td>\n",
              "      <td>1</td>\n",
              "    </tr>\n",
              "    <tr>\n",
              "      <th>6</th>\n",
              "      <td>1821</td>\n",
              "      <td>0</td>\n",
              "      <td>1.7</td>\n",
              "      <td>0</td>\n",
              "      <td>4</td>\n",
              "      <td>1</td>\n",
              "      <td>10</td>\n",
              "      <td>0.8</td>\n",
              "      <td>139</td>\n",
              "      <td>8</td>\n",
              "      <td>10</td>\n",
              "      <td>381</td>\n",
              "      <td>1018</td>\n",
              "      <td>3220</td>\n",
              "      <td>13</td>\n",
              "      <td>8</td>\n",
              "      <td>18</td>\n",
              "      <td>1</td>\n",
              "      <td>0</td>\n",
              "      <td>1</td>\n",
              "      <td>3</td>\n",
              "    </tr>\n",
              "    <tr>\n",
              "      <th>7</th>\n",
              "      <td>1954</td>\n",
              "      <td>0</td>\n",
              "      <td>0.5</td>\n",
              "      <td>1</td>\n",
              "      <td>0</td>\n",
              "      <td>0</td>\n",
              "      <td>24</td>\n",
              "      <td>0.8</td>\n",
              "      <td>187</td>\n",
              "      <td>4</td>\n",
              "      <td>0</td>\n",
              "      <td>512</td>\n",
              "      <td>1149</td>\n",
              "      <td>700</td>\n",
              "      <td>16</td>\n",
              "      <td>3</td>\n",
              "      <td>5</td>\n",
              "      <td>1</td>\n",
              "      <td>1</td>\n",
              "      <td>1</td>\n",
              "      <td>0</td>\n",
              "    </tr>\n",
              "    <tr>\n",
              "      <th>8</th>\n",
              "      <td>1445</td>\n",
              "      <td>1</td>\n",
              "      <td>0.5</td>\n",
              "      <td>0</td>\n",
              "      <td>0</td>\n",
              "      <td>0</td>\n",
              "      <td>53</td>\n",
              "      <td>0.7</td>\n",
              "      <td>174</td>\n",
              "      <td>7</td>\n",
              "      <td>14</td>\n",
              "      <td>386</td>\n",
              "      <td>836</td>\n",
              "      <td>1099</td>\n",
              "      <td>17</td>\n",
              "      <td>1</td>\n",
              "      <td>20</td>\n",
              "      <td>1</td>\n",
              "      <td>0</td>\n",
              "      <td>0</td>\n",
              "      <td>0</td>\n",
              "    </tr>\n",
              "    <tr>\n",
              "      <th>9</th>\n",
              "      <td>509</td>\n",
              "      <td>1</td>\n",
              "      <td>0.6</td>\n",
              "      <td>1</td>\n",
              "      <td>2</td>\n",
              "      <td>1</td>\n",
              "      <td>9</td>\n",
              "      <td>0.1</td>\n",
              "      <td>93</td>\n",
              "      <td>5</td>\n",
              "      <td>15</td>\n",
              "      <td>1137</td>\n",
              "      <td>1224</td>\n",
              "      <td>513</td>\n",
              "      <td>19</td>\n",
              "      <td>10</td>\n",
              "      <td>12</td>\n",
              "      <td>1</td>\n",
              "      <td>0</td>\n",
              "      <td>0</td>\n",
              "      <td>0</td>\n",
              "    </tr>\n",
              "  </tbody>\n",
              "</table>\n",
              "</div>"
            ],
            "text/plain": [
              "   battery_power  blue  clock_speed  ...  touch_screen  wifi  price_range\n",
              "0            842     0          2.2  ...             0     1            1\n",
              "1           1021     1          0.5  ...             1     0            2\n",
              "2            563     1          0.5  ...             1     0            2\n",
              "3            615     1          2.5  ...             0     0            2\n",
              "4           1821     1          1.2  ...             1     0            1\n",
              "5           1859     0          0.5  ...             0     0            1\n",
              "6           1821     0          1.7  ...             0     1            3\n",
              "7           1954     0          0.5  ...             1     1            0\n",
              "8           1445     1          0.5  ...             0     0            0\n",
              "9            509     1          0.6  ...             0     0            0\n",
              "\n",
              "[10 rows x 21 columns]"
            ]
          },
          "metadata": {
            "tags": []
          },
          "execution_count": 47
        }
      ]
    },
    {
      "cell_type": "code",
      "metadata": {
        "id": "Dpx4qK3l9lEc"
      },
      "source": [
        "X= dataset.iloc[:, 0:20].values\n",
        "y= dataset.iloc[:, 20:21].values"
      ],
      "execution_count": 48,
      "outputs": []
    },
    {
      "cell_type": "code",
      "metadata": {
        "id": "vKY1lZph_O2r",
        "outputId": "5c2840a3-0b82-46b5-c6a7-14d1460cfa80",
        "colab": {
          "base_uri": "https://localhost:8080/"
        }
      },
      "source": [
        "#normalise data \n",
        "#https://scikit-learn.org/stable/modules/preprocessing.html\n",
        "from sklearn.preprocessing import StandardScaler\n",
        "# X = preprocessing.StandardScaler().fit(X)\n",
        "X = StandardScaler().fit_transform(X)\n",
        "print (X)"
      ],
      "execution_count": 49,
      "outputs": [
        {
          "output_type": "stream",
          "text": [
            "[[-0.90259726 -0.9900495   0.83077942 ... -1.78686097 -1.00601811\n",
            "   0.98609664]\n",
            " [-0.49513857  1.0100505  -1.2530642  ...  0.55964063  0.99401789\n",
            "  -1.01409939]\n",
            " [-1.5376865   1.0100505  -1.2530642  ...  0.55964063  0.99401789\n",
            "  -1.01409939]\n",
            " ...\n",
            " [ 1.53077336 -0.9900495  -0.76274805 ...  0.55964063  0.99401789\n",
            "  -1.01409939]\n",
            " [ 0.62252745 -0.9900495  -0.76274805 ...  0.55964063  0.99401789\n",
            "   0.98609664]\n",
            " [-1.65833069  1.0100505   0.58562134 ...  0.55964063  0.99401789\n",
            "   0.98609664]]\n"
          ],
          "name": "stdout"
        }
      ]
    },
    {
      "cell_type": "code",
      "metadata": {
        "id": "VCMZjR5jAjW4",
        "outputId": "b97ab661-22a7-4faa-a611-4597fdde8cb8",
        "colab": {
          "base_uri": "https://localhost:8080/"
        }
      },
      "source": [
        "from sklearn.preprocessing import OneHotEncoder\n",
        "ohe = OneHotEncoder()\n",
        "y = ohe.fit_transform(y).toarray()\n",
        "print(y)\n"
      ],
      "execution_count": 50,
      "outputs": [
        {
          "output_type": "stream",
          "text": [
            "[[0. 1. 0. 0.]\n",
            " [0. 0. 1. 0.]\n",
            " [0. 0. 1. 0.]\n",
            " ...\n",
            " [0. 0. 0. 1.]\n",
            " [1. 0. 0. 0.]\n",
            " [0. 0. 0. 1.]]\n"
          ],
          "name": "stdout"
        }
      ]
    },
    {
      "cell_type": "code",
      "metadata": {
        "id": "LyoiB-YalCZc"
      },
      "source": [
        "from sklearn.model_selection import train_test_split\n",
        "X_train,X_test,y_train,y_test = train_test_split(X,y,test_size = 0.1,random_state = 0)"
      ],
      "execution_count": 51,
      "outputs": []
    },
    {
      "cell_type": "code",
      "metadata": {
        "id": "Gv4j2lhemGoO"
      },
      "source": [
        "import keras\n",
        "from keras.models import Sequential\n",
        "from keras.layers import Dense\n",
        "import tensorflow as tf"
      ],
      "execution_count": 86,
      "outputs": []
    },
    {
      "cell_type": "code",
      "metadata": {
        "id": "MBQQmeeXmKsg",
        "outputId": "fa8d248a-2d40-49de-caf9-60e3aca3f015",
        "colab": {
          "base_uri": "https://localhost:8080/"
        }
      },
      "source": [
        "#neural network\n",
        "model= Sequential()\n",
        "model.add (Dense(16, input_dim=20, activation=\"relu\"))\n",
        "model.add (Dense(12, activation=\"relu\"))\n",
        "model.add (Dense (4, activation=\"softmax\"))\n",
        "model.compile(loss='categorical_crossentropy', optimizer='adam', metrics=['accuracy'])\n",
        "model.summary()\n"
      ],
      "execution_count": 87,
      "outputs": [
        {
          "output_type": "stream",
          "text": [
            "Model: \"sequential_15\"\n",
            "_________________________________________________________________\n",
            "Layer (type)                 Output Shape              Param #   \n",
            "=================================================================\n",
            "dense_45 (Dense)             (None, 16)                336       \n",
            "_________________________________________________________________\n",
            "dense_46 (Dense)             (None, 12)                204       \n",
            "_________________________________________________________________\n",
            "dense_47 (Dense)             (None, 4)                 52        \n",
            "=================================================================\n",
            "Total params: 592\n",
            "Trainable params: 592\n",
            "Non-trainable params: 0\n",
            "_________________________________________________________________\n"
          ],
          "name": "stdout"
        }
      ]
    },
    {
      "cell_type": "code",
      "metadata": {
        "id": "qcTOYh0RobXQ",
        "outputId": "8c8d286b-0dad-469f-cb0b-e47e0aa22098",
        "colab": {
          "base_uri": "https://localhost:8080/"
        }
      },
      "source": [
        "history = model.fit(X_train, y_train, epochs=100, batch_size=64)"
      ],
      "execution_count": 88,
      "outputs": [
        {
          "output_type": "stream",
          "text": [
            "Epoch 1/100\n",
            "29/29 [==============================] - 0s 2ms/step - loss: 1.4352 - accuracy: 0.2633\n",
            "Epoch 2/100\n",
            "29/29 [==============================] - 0s 3ms/step - loss: 1.3749 - accuracy: 0.2856\n",
            "Epoch 3/100\n",
            "29/29 [==============================] - 0s 2ms/step - loss: 1.3349 - accuracy: 0.3222\n",
            "Epoch 4/100\n",
            "29/29 [==============================] - 0s 2ms/step - loss: 1.2938 - accuracy: 0.3550\n",
            "Epoch 5/100\n",
            "29/29 [==============================] - 0s 3ms/step - loss: 1.2453 - accuracy: 0.4056\n",
            "Epoch 6/100\n",
            "29/29 [==============================] - 0s 2ms/step - loss: 1.1848 - accuracy: 0.4667\n",
            "Epoch 7/100\n",
            "29/29 [==============================] - 0s 2ms/step - loss: 1.1194 - accuracy: 0.5256\n",
            "Epoch 8/100\n",
            "29/29 [==============================] - 0s 3ms/step - loss: 1.0435 - accuracy: 0.5861\n",
            "Epoch 9/100\n",
            "29/29 [==============================] - 0s 2ms/step - loss: 0.9587 - accuracy: 0.6278\n",
            "Epoch 10/100\n",
            "29/29 [==============================] - 0s 3ms/step - loss: 0.8715 - accuracy: 0.6650\n",
            "Epoch 11/100\n",
            "29/29 [==============================] - 0s 2ms/step - loss: 0.7872 - accuracy: 0.6961\n",
            "Epoch 12/100\n",
            "29/29 [==============================] - 0s 2ms/step - loss: 0.7128 - accuracy: 0.7344\n",
            "Epoch 13/100\n",
            "29/29 [==============================] - 0s 3ms/step - loss: 0.6481 - accuracy: 0.7728\n",
            "Epoch 14/100\n",
            "29/29 [==============================] - 0s 2ms/step - loss: 0.5916 - accuracy: 0.8022\n",
            "Epoch 15/100\n",
            "29/29 [==============================] - 0s 2ms/step - loss: 0.5417 - accuracy: 0.8261\n",
            "Epoch 16/100\n",
            "29/29 [==============================] - 0s 2ms/step - loss: 0.4993 - accuracy: 0.8467\n",
            "Epoch 17/100\n",
            "29/29 [==============================] - 0s 2ms/step - loss: 0.4625 - accuracy: 0.8556\n",
            "Epoch 18/100\n",
            "29/29 [==============================] - 0s 3ms/step - loss: 0.4289 - accuracy: 0.8711\n",
            "Epoch 19/100\n",
            "29/29 [==============================] - 0s 2ms/step - loss: 0.4003 - accuracy: 0.8828\n",
            "Epoch 20/100\n",
            "29/29 [==============================] - 0s 3ms/step - loss: 0.3751 - accuracy: 0.8917\n",
            "Epoch 21/100\n",
            "29/29 [==============================] - 0s 2ms/step - loss: 0.3513 - accuracy: 0.9000\n",
            "Epoch 22/100\n",
            "29/29 [==============================] - 0s 2ms/step - loss: 0.3301 - accuracy: 0.9017\n",
            "Epoch 23/100\n",
            "29/29 [==============================] - 0s 2ms/step - loss: 0.3112 - accuracy: 0.9083\n",
            "Epoch 24/100\n",
            "29/29 [==============================] - 0s 2ms/step - loss: 0.2931 - accuracy: 0.9139\n",
            "Epoch 25/100\n",
            "29/29 [==============================] - 0s 2ms/step - loss: 0.2773 - accuracy: 0.9150\n",
            "Epoch 26/100\n",
            "29/29 [==============================] - 0s 2ms/step - loss: 0.2650 - accuracy: 0.9161\n",
            "Epoch 27/100\n",
            "29/29 [==============================] - 0s 2ms/step - loss: 0.2522 - accuracy: 0.9206\n",
            "Epoch 28/100\n",
            "29/29 [==============================] - 0s 3ms/step - loss: 0.2402 - accuracy: 0.9261\n",
            "Epoch 29/100\n",
            "29/29 [==============================] - 0s 2ms/step - loss: 0.2305 - accuracy: 0.9250\n",
            "Epoch 30/100\n",
            "29/29 [==============================] - 0s 2ms/step - loss: 0.2222 - accuracy: 0.9317\n",
            "Epoch 31/100\n",
            "29/29 [==============================] - 0s 3ms/step - loss: 0.2117 - accuracy: 0.9311\n",
            "Epoch 32/100\n",
            "29/29 [==============================] - 0s 2ms/step - loss: 0.2041 - accuracy: 0.9372\n",
            "Epoch 33/100\n",
            "29/29 [==============================] - 0s 3ms/step - loss: 0.1970 - accuracy: 0.9433\n",
            "Epoch 34/100\n",
            "29/29 [==============================] - 0s 2ms/step - loss: 0.1899 - accuracy: 0.9400\n",
            "Epoch 35/100\n",
            "29/29 [==============================] - 0s 3ms/step - loss: 0.1834 - accuracy: 0.9422\n",
            "Epoch 36/100\n",
            "29/29 [==============================] - 0s 2ms/step - loss: 0.1762 - accuracy: 0.9428\n",
            "Epoch 37/100\n",
            "29/29 [==============================] - 0s 2ms/step - loss: 0.1708 - accuracy: 0.9472\n",
            "Epoch 38/100\n",
            "29/29 [==============================] - 0s 2ms/step - loss: 0.1669 - accuracy: 0.9467\n",
            "Epoch 39/100\n",
            "29/29 [==============================] - 0s 2ms/step - loss: 0.1601 - accuracy: 0.9500\n",
            "Epoch 40/100\n",
            "29/29 [==============================] - 0s 3ms/step - loss: 0.1564 - accuracy: 0.9483\n",
            "Epoch 41/100\n",
            "29/29 [==============================] - 0s 3ms/step - loss: 0.1518 - accuracy: 0.9500\n",
            "Epoch 42/100\n",
            "29/29 [==============================] - 0s 3ms/step - loss: 0.1476 - accuracy: 0.9528\n",
            "Epoch 43/100\n",
            "29/29 [==============================] - 0s 3ms/step - loss: 0.1441 - accuracy: 0.9539\n",
            "Epoch 44/100\n",
            "29/29 [==============================] - 0s 3ms/step - loss: 0.1403 - accuracy: 0.9567\n",
            "Epoch 45/100\n",
            "29/29 [==============================] - 0s 2ms/step - loss: 0.1365 - accuracy: 0.9572\n",
            "Epoch 46/100\n",
            "29/29 [==============================] - 0s 2ms/step - loss: 0.1332 - accuracy: 0.9572\n",
            "Epoch 47/100\n",
            "29/29 [==============================] - 0s 2ms/step - loss: 0.1292 - accuracy: 0.9606\n",
            "Epoch 48/100\n",
            "29/29 [==============================] - 0s 3ms/step - loss: 0.1257 - accuracy: 0.9561\n",
            "Epoch 49/100\n",
            "29/29 [==============================] - 0s 2ms/step - loss: 0.1231 - accuracy: 0.9617\n",
            "Epoch 50/100\n",
            "29/29 [==============================] - 0s 3ms/step - loss: 0.1199 - accuracy: 0.9628\n",
            "Epoch 51/100\n",
            "29/29 [==============================] - 0s 2ms/step - loss: 0.1171 - accuracy: 0.9622\n",
            "Epoch 52/100\n",
            "29/29 [==============================] - 0s 2ms/step - loss: 0.1132 - accuracy: 0.9639\n",
            "Epoch 53/100\n",
            "29/29 [==============================] - 0s 2ms/step - loss: 0.1110 - accuracy: 0.9644\n",
            "Epoch 54/100\n",
            "29/29 [==============================] - 0s 2ms/step - loss: 0.1071 - accuracy: 0.9683\n",
            "Epoch 55/100\n",
            "29/29 [==============================] - 0s 2ms/step - loss: 0.1047 - accuracy: 0.9678\n",
            "Epoch 56/100\n",
            "29/29 [==============================] - 0s 3ms/step - loss: 0.1030 - accuracy: 0.9694\n",
            "Epoch 57/100\n",
            "29/29 [==============================] - 0s 2ms/step - loss: 0.1017 - accuracy: 0.9672\n",
            "Epoch 58/100\n",
            "29/29 [==============================] - 0s 3ms/step - loss: 0.0983 - accuracy: 0.9706\n",
            "Epoch 59/100\n",
            "29/29 [==============================] - 0s 2ms/step - loss: 0.0958 - accuracy: 0.9722\n",
            "Epoch 60/100\n",
            "29/29 [==============================] - 0s 3ms/step - loss: 0.0944 - accuracy: 0.9717\n",
            "Epoch 61/100\n",
            "29/29 [==============================] - 0s 3ms/step - loss: 0.0926 - accuracy: 0.9728\n",
            "Epoch 62/100\n",
            "29/29 [==============================] - 0s 2ms/step - loss: 0.0911 - accuracy: 0.9728\n",
            "Epoch 63/100\n",
            "29/29 [==============================] - 0s 2ms/step - loss: 0.0895 - accuracy: 0.9761\n",
            "Epoch 64/100\n",
            "29/29 [==============================] - 0s 2ms/step - loss: 0.0873 - accuracy: 0.9778\n",
            "Epoch 65/100\n",
            "29/29 [==============================] - 0s 2ms/step - loss: 0.0844 - accuracy: 0.9794\n",
            "Epoch 66/100\n",
            "29/29 [==============================] - 0s 3ms/step - loss: 0.0845 - accuracy: 0.9756\n",
            "Epoch 67/100\n",
            "29/29 [==============================] - 0s 3ms/step - loss: 0.0820 - accuracy: 0.9789\n",
            "Epoch 68/100\n",
            "29/29 [==============================] - 0s 3ms/step - loss: 0.0798 - accuracy: 0.9800\n",
            "Epoch 69/100\n",
            "29/29 [==============================] - 0s 3ms/step - loss: 0.0786 - accuracy: 0.9806\n",
            "Epoch 70/100\n",
            "29/29 [==============================] - 0s 2ms/step - loss: 0.0782 - accuracy: 0.9789\n",
            "Epoch 71/100\n",
            "29/29 [==============================] - 0s 3ms/step - loss: 0.0780 - accuracy: 0.9772\n",
            "Epoch 72/100\n",
            "29/29 [==============================] - 0s 3ms/step - loss: 0.0749 - accuracy: 0.9794\n",
            "Epoch 73/100\n",
            "29/29 [==============================] - 0s 3ms/step - loss: 0.0732 - accuracy: 0.9817\n",
            "Epoch 74/100\n",
            "29/29 [==============================] - 0s 3ms/step - loss: 0.0716 - accuracy: 0.9828\n",
            "Epoch 75/100\n",
            "29/29 [==============================] - 0s 3ms/step - loss: 0.0703 - accuracy: 0.9817\n",
            "Epoch 76/100\n",
            "29/29 [==============================] - 0s 3ms/step - loss: 0.0695 - accuracy: 0.9811\n",
            "Epoch 77/100\n",
            "29/29 [==============================] - 0s 2ms/step - loss: 0.0683 - accuracy: 0.9833\n",
            "Epoch 78/100\n",
            "29/29 [==============================] - 0s 3ms/step - loss: 0.0672 - accuracy: 0.9833\n",
            "Epoch 79/100\n",
            "29/29 [==============================] - 0s 2ms/step - loss: 0.0658 - accuracy: 0.9839\n",
            "Epoch 80/100\n",
            "29/29 [==============================] - 0s 2ms/step - loss: 0.0647 - accuracy: 0.9839\n",
            "Epoch 81/100\n",
            "29/29 [==============================] - 0s 3ms/step - loss: 0.0634 - accuracy: 0.9844\n",
            "Epoch 82/100\n",
            "29/29 [==============================] - 0s 3ms/step - loss: 0.0634 - accuracy: 0.9850\n",
            "Epoch 83/100\n",
            "29/29 [==============================] - 0s 3ms/step - loss: 0.0647 - accuracy: 0.9839\n",
            "Epoch 84/100\n",
            "29/29 [==============================] - 0s 2ms/step - loss: 0.0616 - accuracy: 0.9867\n",
            "Epoch 85/100\n",
            "29/29 [==============================] - 0s 2ms/step - loss: 0.0599 - accuracy: 0.9872\n",
            "Epoch 86/100\n",
            "29/29 [==============================] - 0s 3ms/step - loss: 0.0585 - accuracy: 0.9878\n",
            "Epoch 87/100\n",
            "29/29 [==============================] - 0s 2ms/step - loss: 0.0585 - accuracy: 0.9894\n",
            "Epoch 88/100\n",
            "29/29 [==============================] - 0s 3ms/step - loss: 0.0575 - accuracy: 0.9867\n",
            "Epoch 89/100\n",
            "29/29 [==============================] - 0s 3ms/step - loss: 0.0580 - accuracy: 0.9900\n",
            "Epoch 90/100\n",
            "29/29 [==============================] - 0s 3ms/step - loss: 0.0568 - accuracy: 0.9867\n",
            "Epoch 91/100\n",
            "29/29 [==============================] - 0s 3ms/step - loss: 0.0550 - accuracy: 0.9872\n",
            "Epoch 92/100\n",
            "29/29 [==============================] - 0s 2ms/step - loss: 0.0538 - accuracy: 0.9883\n",
            "Epoch 93/100\n",
            "29/29 [==============================] - 0s 2ms/step - loss: 0.0531 - accuracy: 0.9911\n",
            "Epoch 94/100\n",
            "29/29 [==============================] - 0s 3ms/step - loss: 0.0516 - accuracy: 0.9906\n",
            "Epoch 95/100\n",
            "29/29 [==============================] - 0s 3ms/step - loss: 0.0512 - accuracy: 0.9906\n",
            "Epoch 96/100\n",
            "29/29 [==============================] - 0s 2ms/step - loss: 0.0508 - accuracy: 0.9911\n",
            "Epoch 97/100\n",
            "29/29 [==============================] - 0s 2ms/step - loss: 0.0497 - accuracy: 0.9894\n",
            "Epoch 98/100\n",
            "29/29 [==============================] - 0s 2ms/step - loss: 0.0497 - accuracy: 0.9889\n",
            "Epoch 99/100\n",
            "29/29 [==============================] - 0s 3ms/step - loss: 0.0489 - accuracy: 0.9900\n",
            "Epoch 100/100\n",
            "29/29 [==============================] - 0s 2ms/step - loss: 0.0485 - accuracy: 0.9911\n"
          ],
          "name": "stdout"
        }
      ]
    },
    {
      "cell_type": "code",
      "metadata": {
        "id": "iQ2IeHnk1ijm"
      },
      "source": [
        "y_pred = model.predict(X_test)\n",
        "#print(y_pred)\n",
        "#Converting predictions to label\n",
        "pred = list()\n",
        "for i in range(len(y_pred)):\n",
        "    pred.append(np.argmax(y_pred[i]))\n",
        "#print (pred)"
      ],
      "execution_count": 89,
      "outputs": []
    },
    {
      "cell_type": "code",
      "metadata": {
        "id": "N4so_2ar4xVb"
      },
      "source": [
        "test = list()\n",
        "for i in range(len(y_test)):\n",
        "    test.append(np.argmax(y_test[i]))"
      ],
      "execution_count": 90,
      "outputs": []
    },
    {
      "cell_type": "code",
      "metadata": {
        "id": "iurhJRZ95SOS"
      },
      "source": [
        "from sklearn.metrics import accuracy_score"
      ],
      "execution_count": 91,
      "outputs": []
    },
    {
      "cell_type": "code",
      "metadata": {
        "id": "aZowtSxW6RcR",
        "outputId": "7471a3d1-b6ab-4af1-bc0f-5c6b87484f8d",
        "colab": {
          "base_uri": "https://localhost:8080/"
        }
      },
      "source": [
        "a= accuracy_score(pred, test)\n",
        "print (\"Accuracy is :\",a*100)\n",
        "history1 = model.fit(X_train, y_train,validation_data = (X_test,y_test), epochs=100, batch_size=64)"
      ],
      "execution_count": 92,
      "outputs": [
        {
          "output_type": "stream",
          "text": [
            "Accuracy is : 93.0\n",
            "Epoch 1/100\n",
            "29/29 [==============================] - 0s 7ms/step - loss: 0.0499 - accuracy: 0.9906 - val_loss: 0.1792 - val_accuracy: 0.9300\n",
            "Epoch 2/100\n",
            "29/29 [==============================] - 0s 3ms/step - loss: 0.0473 - accuracy: 0.9906 - val_loss: 0.1843 - val_accuracy: 0.9350\n",
            "Epoch 3/100\n",
            "29/29 [==============================] - 0s 3ms/step - loss: 0.0473 - accuracy: 0.9894 - val_loss: 0.1850 - val_accuracy: 0.9300\n",
            "Epoch 4/100\n",
            "29/29 [==============================] - 0s 3ms/step - loss: 0.0468 - accuracy: 0.9906 - val_loss: 0.1829 - val_accuracy: 0.9300\n",
            "Epoch 5/100\n",
            "29/29 [==============================] - 0s 3ms/step - loss: 0.0447 - accuracy: 0.9917 - val_loss: 0.1800 - val_accuracy: 0.9450\n",
            "Epoch 6/100\n",
            "29/29 [==============================] - 0s 3ms/step - loss: 0.0448 - accuracy: 0.9928 - val_loss: 0.1896 - val_accuracy: 0.9300\n",
            "Epoch 7/100\n",
            "29/29 [==============================] - 0s 3ms/step - loss: 0.0439 - accuracy: 0.9911 - val_loss: 0.1815 - val_accuracy: 0.9450\n",
            "Epoch 8/100\n",
            "29/29 [==============================] - 0s 4ms/step - loss: 0.0428 - accuracy: 0.9939 - val_loss: 0.1809 - val_accuracy: 0.9350\n",
            "Epoch 9/100\n",
            "29/29 [==============================] - 0s 3ms/step - loss: 0.0440 - accuracy: 0.9911 - val_loss: 0.1863 - val_accuracy: 0.9350\n",
            "Epoch 10/100\n",
            "29/29 [==============================] - 0s 3ms/step - loss: 0.0423 - accuracy: 0.9944 - val_loss: 0.1844 - val_accuracy: 0.9300\n",
            "Epoch 11/100\n",
            "29/29 [==============================] - 0s 3ms/step - loss: 0.0409 - accuracy: 0.9933 - val_loss: 0.1856 - val_accuracy: 0.9400\n",
            "Epoch 12/100\n",
            "29/29 [==============================] - 0s 3ms/step - loss: 0.0401 - accuracy: 0.9933 - val_loss: 0.1852 - val_accuracy: 0.9400\n",
            "Epoch 13/100\n",
            "29/29 [==============================] - 0s 3ms/step - loss: 0.0399 - accuracy: 0.9933 - val_loss: 0.1848 - val_accuracy: 0.9400\n",
            "Epoch 14/100\n",
            "29/29 [==============================] - 0s 3ms/step - loss: 0.0398 - accuracy: 0.9956 - val_loss: 0.1900 - val_accuracy: 0.9350\n",
            "Epoch 15/100\n",
            "29/29 [==============================] - 0s 3ms/step - loss: 0.0396 - accuracy: 0.9944 - val_loss: 0.1945 - val_accuracy: 0.9350\n",
            "Epoch 16/100\n",
            "29/29 [==============================] - 0s 3ms/step - loss: 0.0393 - accuracy: 0.9939 - val_loss: 0.1957 - val_accuracy: 0.9300\n",
            "Epoch 17/100\n",
            "29/29 [==============================] - 0s 3ms/step - loss: 0.0388 - accuracy: 0.9928 - val_loss: 0.1862 - val_accuracy: 0.9400\n",
            "Epoch 18/100\n",
            "29/29 [==============================] - 0s 4ms/step - loss: 0.0376 - accuracy: 0.9939 - val_loss: 0.1865 - val_accuracy: 0.9300\n",
            "Epoch 19/100\n",
            "29/29 [==============================] - 0s 3ms/step - loss: 0.0373 - accuracy: 0.9939 - val_loss: 0.1820 - val_accuracy: 0.9350\n",
            "Epoch 20/100\n",
            "29/29 [==============================] - 0s 3ms/step - loss: 0.0370 - accuracy: 0.9956 - val_loss: 0.1914 - val_accuracy: 0.9350\n",
            "Epoch 21/100\n",
            "29/29 [==============================] - 0s 3ms/step - loss: 0.0357 - accuracy: 0.9939 - val_loss: 0.1891 - val_accuracy: 0.9400\n",
            "Epoch 22/100\n",
            "29/29 [==============================] - 0s 3ms/step - loss: 0.0356 - accuracy: 0.9950 - val_loss: 0.1911 - val_accuracy: 0.9350\n",
            "Epoch 23/100\n",
            "29/29 [==============================] - 0s 3ms/step - loss: 0.0350 - accuracy: 0.9956 - val_loss: 0.1967 - val_accuracy: 0.9350\n",
            "Epoch 24/100\n",
            "29/29 [==============================] - 0s 3ms/step - loss: 0.0347 - accuracy: 0.9950 - val_loss: 0.1862 - val_accuracy: 0.9400\n",
            "Epoch 25/100\n",
            "29/29 [==============================] - 0s 4ms/step - loss: 0.0339 - accuracy: 0.9967 - val_loss: 0.2000 - val_accuracy: 0.9350\n",
            "Epoch 26/100\n",
            "29/29 [==============================] - 0s 3ms/step - loss: 0.0339 - accuracy: 0.9956 - val_loss: 0.1920 - val_accuracy: 0.9350\n",
            "Epoch 27/100\n",
            "29/29 [==============================] - 0s 3ms/step - loss: 0.0329 - accuracy: 0.9961 - val_loss: 0.1968 - val_accuracy: 0.9450\n",
            "Epoch 28/100\n",
            "29/29 [==============================] - 0s 4ms/step - loss: 0.0328 - accuracy: 0.9967 - val_loss: 0.1947 - val_accuracy: 0.9350\n",
            "Epoch 29/100\n",
            "29/29 [==============================] - 0s 3ms/step - loss: 0.0327 - accuracy: 0.9956 - val_loss: 0.1973 - val_accuracy: 0.9350\n",
            "Epoch 30/100\n",
            "29/29 [==============================] - 0s 3ms/step - loss: 0.0316 - accuracy: 0.9961 - val_loss: 0.1975 - val_accuracy: 0.9400\n",
            "Epoch 31/100\n",
            "29/29 [==============================] - 0s 3ms/step - loss: 0.0314 - accuracy: 0.9956 - val_loss: 0.2011 - val_accuracy: 0.9350\n",
            "Epoch 32/100\n",
            "29/29 [==============================] - 0s 3ms/step - loss: 0.0305 - accuracy: 0.9967 - val_loss: 0.1945 - val_accuracy: 0.9450\n",
            "Epoch 33/100\n",
            "29/29 [==============================] - 0s 3ms/step - loss: 0.0320 - accuracy: 0.9967 - val_loss: 0.2107 - val_accuracy: 0.9300\n",
            "Epoch 34/100\n",
            "29/29 [==============================] - 0s 3ms/step - loss: 0.0308 - accuracy: 0.9967 - val_loss: 0.1919 - val_accuracy: 0.9400\n",
            "Epoch 35/100\n",
            "29/29 [==============================] - 0s 3ms/step - loss: 0.0298 - accuracy: 0.9961 - val_loss: 0.2035 - val_accuracy: 0.9300\n",
            "Epoch 36/100\n",
            "29/29 [==============================] - 0s 3ms/step - loss: 0.0287 - accuracy: 0.9972 - val_loss: 0.1990 - val_accuracy: 0.9450\n",
            "Epoch 37/100\n",
            "29/29 [==============================] - 0s 3ms/step - loss: 0.0285 - accuracy: 0.9967 - val_loss: 0.1998 - val_accuracy: 0.9450\n",
            "Epoch 38/100\n",
            "29/29 [==============================] - 0s 3ms/step - loss: 0.0282 - accuracy: 0.9956 - val_loss: 0.2057 - val_accuracy: 0.9400\n",
            "Epoch 39/100\n",
            "29/29 [==============================] - 0s 4ms/step - loss: 0.0279 - accuracy: 0.9967 - val_loss: 0.2040 - val_accuracy: 0.9350\n",
            "Epoch 40/100\n",
            "29/29 [==============================] - 0s 3ms/step - loss: 0.0282 - accuracy: 0.9972 - val_loss: 0.2076 - val_accuracy: 0.9400\n",
            "Epoch 41/100\n",
            "29/29 [==============================] - 0s 3ms/step - loss: 0.0272 - accuracy: 0.9978 - val_loss: 0.2048 - val_accuracy: 0.9350\n",
            "Epoch 42/100\n",
            "29/29 [==============================] - 0s 3ms/step - loss: 0.0269 - accuracy: 0.9972 - val_loss: 0.2071 - val_accuracy: 0.9350\n",
            "Epoch 43/100\n",
            "29/29 [==============================] - 0s 3ms/step - loss: 0.0263 - accuracy: 0.9967 - val_loss: 0.2043 - val_accuracy: 0.9450\n",
            "Epoch 44/100\n",
            "29/29 [==============================] - 0s 3ms/step - loss: 0.0260 - accuracy: 0.9972 - val_loss: 0.2115 - val_accuracy: 0.9350\n",
            "Epoch 45/100\n",
            "29/29 [==============================] - 0s 3ms/step - loss: 0.0259 - accuracy: 0.9978 - val_loss: 0.2160 - val_accuracy: 0.9350\n",
            "Epoch 46/100\n",
            "29/29 [==============================] - 0s 3ms/step - loss: 0.0253 - accuracy: 0.9972 - val_loss: 0.2111 - val_accuracy: 0.9400\n",
            "Epoch 47/100\n",
            "29/29 [==============================] - 0s 3ms/step - loss: 0.0252 - accuracy: 0.9978 - val_loss: 0.2110 - val_accuracy: 0.9400\n",
            "Epoch 48/100\n",
            "29/29 [==============================] - 0s 4ms/step - loss: 0.0243 - accuracy: 0.9978 - val_loss: 0.2133 - val_accuracy: 0.9350\n",
            "Epoch 49/100\n",
            "29/29 [==============================] - 0s 3ms/step - loss: 0.0242 - accuracy: 0.9978 - val_loss: 0.2128 - val_accuracy: 0.9400\n",
            "Epoch 50/100\n",
            "29/29 [==============================] - 0s 3ms/step - loss: 0.0244 - accuracy: 0.9978 - val_loss: 0.2179 - val_accuracy: 0.9400\n",
            "Epoch 51/100\n",
            "29/29 [==============================] - 0s 3ms/step - loss: 0.0232 - accuracy: 0.9972 - val_loss: 0.2185 - val_accuracy: 0.9300\n",
            "Epoch 52/100\n",
            "29/29 [==============================] - 0s 3ms/step - loss: 0.0246 - accuracy: 0.9961 - val_loss: 0.2201 - val_accuracy: 0.9400\n",
            "Epoch 53/100\n",
            "29/29 [==============================] - 0s 3ms/step - loss: 0.0233 - accuracy: 0.9972 - val_loss: 0.2178 - val_accuracy: 0.9350\n",
            "Epoch 54/100\n",
            "29/29 [==============================] - 0s 3ms/step - loss: 0.0231 - accuracy: 0.9972 - val_loss: 0.2248 - val_accuracy: 0.9300\n",
            "Epoch 55/100\n",
            "29/29 [==============================] - 0s 3ms/step - loss: 0.0226 - accuracy: 0.9972 - val_loss: 0.2199 - val_accuracy: 0.9350\n",
            "Epoch 56/100\n",
            "29/29 [==============================] - 0s 3ms/step - loss: 0.0212 - accuracy: 0.9978 - val_loss: 0.2197 - val_accuracy: 0.9400\n",
            "Epoch 57/100\n",
            "29/29 [==============================] - 0s 3ms/step - loss: 0.0216 - accuracy: 0.9972 - val_loss: 0.2270 - val_accuracy: 0.9350\n",
            "Epoch 58/100\n",
            "29/29 [==============================] - 0s 4ms/step - loss: 0.0219 - accuracy: 0.9983 - val_loss: 0.2224 - val_accuracy: 0.9350\n",
            "Epoch 59/100\n",
            "29/29 [==============================] - 0s 4ms/step - loss: 0.0209 - accuracy: 0.9978 - val_loss: 0.2174 - val_accuracy: 0.9450\n",
            "Epoch 60/100\n",
            "29/29 [==============================] - 0s 3ms/step - loss: 0.0204 - accuracy: 0.9983 - val_loss: 0.2248 - val_accuracy: 0.9400\n",
            "Epoch 61/100\n",
            "29/29 [==============================] - 0s 3ms/step - loss: 0.0207 - accuracy: 0.9972 - val_loss: 0.2252 - val_accuracy: 0.9400\n",
            "Epoch 62/100\n",
            "29/29 [==============================] - 0s 3ms/step - loss: 0.0201 - accuracy: 0.9967 - val_loss: 0.2231 - val_accuracy: 0.9450\n",
            "Epoch 63/100\n",
            "29/29 [==============================] - 0s 3ms/step - loss: 0.0217 - accuracy: 0.9961 - val_loss: 0.2219 - val_accuracy: 0.9400\n",
            "Epoch 64/100\n",
            "29/29 [==============================] - 0s 3ms/step - loss: 0.0198 - accuracy: 0.9983 - val_loss: 0.2202 - val_accuracy: 0.9450\n",
            "Epoch 65/100\n",
            "29/29 [==============================] - 0s 3ms/step - loss: 0.0210 - accuracy: 0.9978 - val_loss: 0.2313 - val_accuracy: 0.9400\n",
            "Epoch 66/100\n",
            "29/29 [==============================] - 0s 3ms/step - loss: 0.0206 - accuracy: 0.9967 - val_loss: 0.2272 - val_accuracy: 0.9400\n",
            "Epoch 67/100\n",
            "29/29 [==============================] - 0s 4ms/step - loss: 0.0181 - accuracy: 0.9989 - val_loss: 0.2267 - val_accuracy: 0.9400\n",
            "Epoch 68/100\n",
            "29/29 [==============================] - 0s 3ms/step - loss: 0.0179 - accuracy: 0.9978 - val_loss: 0.2321 - val_accuracy: 0.9400\n",
            "Epoch 69/100\n",
            "29/29 [==============================] - 0s 3ms/step - loss: 0.0194 - accuracy: 0.9983 - val_loss: 0.2349 - val_accuracy: 0.9300\n",
            "Epoch 70/100\n",
            "29/29 [==============================] - 0s 3ms/step - loss: 0.0179 - accuracy: 0.9983 - val_loss: 0.2332 - val_accuracy: 0.9300\n",
            "Epoch 71/100\n",
            "29/29 [==============================] - 0s 3ms/step - loss: 0.0175 - accuracy: 0.9983 - val_loss: 0.2462 - val_accuracy: 0.9300\n",
            "Epoch 72/100\n",
            "29/29 [==============================] - 0s 3ms/step - loss: 0.0167 - accuracy: 0.9989 - val_loss: 0.2364 - val_accuracy: 0.9350\n",
            "Epoch 73/100\n",
            "29/29 [==============================] - 0s 3ms/step - loss: 0.0163 - accuracy: 0.9989 - val_loss: 0.2361 - val_accuracy: 0.9350\n",
            "Epoch 74/100\n",
            "29/29 [==============================] - 0s 4ms/step - loss: 0.0163 - accuracy: 0.9983 - val_loss: 0.2445 - val_accuracy: 0.9350\n",
            "Epoch 75/100\n",
            "29/29 [==============================] - 0s 3ms/step - loss: 0.0160 - accuracy: 0.9983 - val_loss: 0.2409 - val_accuracy: 0.9350\n",
            "Epoch 76/100\n",
            "29/29 [==============================] - 0s 3ms/step - loss: 0.0156 - accuracy: 0.9989 - val_loss: 0.2427 - val_accuracy: 0.9400\n",
            "Epoch 77/100\n",
            "29/29 [==============================] - 0s 3ms/step - loss: 0.0166 - accuracy: 0.9978 - val_loss: 0.2456 - val_accuracy: 0.9400\n",
            "Epoch 78/100\n",
            "29/29 [==============================] - 0s 4ms/step - loss: 0.0154 - accuracy: 0.9994 - val_loss: 0.2429 - val_accuracy: 0.9400\n",
            "Epoch 79/100\n",
            "29/29 [==============================] - 0s 3ms/step - loss: 0.0151 - accuracy: 0.9994 - val_loss: 0.2418 - val_accuracy: 0.9350\n",
            "Epoch 80/100\n",
            "29/29 [==============================] - 0s 3ms/step - loss: 0.0156 - accuracy: 0.9978 - val_loss: 0.2583 - val_accuracy: 0.9350\n",
            "Epoch 81/100\n",
            "29/29 [==============================] - 0s 3ms/step - loss: 0.0157 - accuracy: 0.9983 - val_loss: 0.2488 - val_accuracy: 0.9300\n",
            "Epoch 82/100\n",
            "29/29 [==============================] - 0s 3ms/step - loss: 0.0142 - accuracy: 0.9989 - val_loss: 0.2507 - val_accuracy: 0.9350\n",
            "Epoch 83/100\n",
            "29/29 [==============================] - 0s 3ms/step - loss: 0.0151 - accuracy: 0.9989 - val_loss: 0.2540 - val_accuracy: 0.9350\n",
            "Epoch 84/100\n",
            "29/29 [==============================] - 0s 3ms/step - loss: 0.0142 - accuracy: 0.9983 - val_loss: 0.2473 - val_accuracy: 0.9350\n",
            "Epoch 85/100\n",
            "29/29 [==============================] - 0s 3ms/step - loss: 0.0144 - accuracy: 0.9994 - val_loss: 0.2425 - val_accuracy: 0.9400\n",
            "Epoch 86/100\n",
            "29/29 [==============================] - 0s 3ms/step - loss: 0.0137 - accuracy: 0.9994 - val_loss: 0.2524 - val_accuracy: 0.9350\n",
            "Epoch 87/100\n",
            "29/29 [==============================] - 0s 3ms/step - loss: 0.0133 - accuracy: 0.9989 - val_loss: 0.2521 - val_accuracy: 0.9300\n",
            "Epoch 88/100\n",
            "29/29 [==============================] - 0s 4ms/step - loss: 0.0130 - accuracy: 0.9994 - val_loss: 0.2475 - val_accuracy: 0.9350\n",
            "Epoch 89/100\n",
            "29/29 [==============================] - 0s 3ms/step - loss: 0.0134 - accuracy: 0.9989 - val_loss: 0.2606 - val_accuracy: 0.9350\n",
            "Epoch 90/100\n",
            "29/29 [==============================] - 0s 3ms/step - loss: 0.0126 - accuracy: 0.9994 - val_loss: 0.2551 - val_accuracy: 0.9400\n",
            "Epoch 91/100\n",
            "29/29 [==============================] - 0s 3ms/step - loss: 0.0125 - accuracy: 0.9994 - val_loss: 0.2623 - val_accuracy: 0.9350\n",
            "Epoch 92/100\n",
            "29/29 [==============================] - 0s 3ms/step - loss: 0.0130 - accuracy: 0.9989 - val_loss: 0.2549 - val_accuracy: 0.9350\n",
            "Epoch 93/100\n",
            "29/29 [==============================] - 0s 3ms/step - loss: 0.0122 - accuracy: 0.9989 - val_loss: 0.2489 - val_accuracy: 0.9350\n",
            "Epoch 94/100\n",
            "29/29 [==============================] - 0s 3ms/step - loss: 0.0119 - accuracy: 0.9989 - val_loss: 0.2529 - val_accuracy: 0.9350\n",
            "Epoch 95/100\n",
            "29/29 [==============================] - 0s 3ms/step - loss: 0.0117 - accuracy: 0.9994 - val_loss: 0.2605 - val_accuracy: 0.9350\n",
            "Epoch 96/100\n",
            "29/29 [==============================] - 0s 3ms/step - loss: 0.0119 - accuracy: 0.9994 - val_loss: 0.2609 - val_accuracy: 0.9400\n",
            "Epoch 97/100\n",
            "29/29 [==============================] - 0s 3ms/step - loss: 0.0119 - accuracy: 0.9994 - val_loss: 0.2582 - val_accuracy: 0.9350\n",
            "Epoch 98/100\n",
            "29/29 [==============================] - 0s 4ms/step - loss: 0.0111 - accuracy: 0.9994 - val_loss: 0.2615 - val_accuracy: 0.9350\n",
            "Epoch 99/100\n",
            "29/29 [==============================] - 0s 3ms/step - loss: 0.0108 - accuracy: 0.9994 - val_loss: 0.2662 - val_accuracy: 0.9350\n",
            "Epoch 100/100\n",
            "29/29 [==============================] - 0s 3ms/step - loss: 0.0108 - accuracy: 0.9989 - val_loss: 0.2642 - val_accuracy: 0.9350\n"
          ],
          "name": "stdout"
        }
      ]
    },
    {
      "cell_type": "code",
      "metadata": {
        "id": "DX9wlZqa6exj",
        "outputId": "178d753c-ee76-489c-c7b1-39f2c9e95b04",
        "colab": {
          "base_uri": "https://localhost:8080/",
          "height": 483
        }
      },
      "source": [
        "plt.plot(history.history['loss'])\n",
        "plt.plot(history.history['val_loss']) \n",
        "plt.title('Model loss') \n",
        "plt.ylabel('Loss') \n",
        "plt.xlabel('Epoch') \n",
        "plt.legend(['Train', 'Test'], loc='upper left') \n",
        "plt.show()"
      ],
      "execution_count": 95,
      "outputs": [
        {
          "output_type": "error",
          "ename": "KeyError",
          "evalue": "ignored",
          "traceback": [
            "\u001b[0;31m---------------------------------------------------------------------------\u001b[0m",
            "\u001b[0;31mKeyError\u001b[0m                                  Traceback (most recent call last)",
            "\u001b[0;32m<ipython-input-95-c5bd4b8a0a2f>\u001b[0m in \u001b[0;36m<module>\u001b[0;34m()\u001b[0m\n\u001b[1;32m      1\u001b[0m \u001b[0mplt\u001b[0m\u001b[0;34m.\u001b[0m\u001b[0mplot\u001b[0m\u001b[0;34m(\u001b[0m\u001b[0mhistory\u001b[0m\u001b[0;34m.\u001b[0m\u001b[0mhistory\u001b[0m\u001b[0;34m[\u001b[0m\u001b[0;34m'loss'\u001b[0m\u001b[0;34m]\u001b[0m\u001b[0;34m)\u001b[0m\u001b[0;34m\u001b[0m\u001b[0;34m\u001b[0m\u001b[0m\n\u001b[0;32m----> 2\u001b[0;31m \u001b[0mplt\u001b[0m\u001b[0;34m.\u001b[0m\u001b[0mplot\u001b[0m\u001b[0;34m(\u001b[0m\u001b[0mhistory\u001b[0m\u001b[0;34m.\u001b[0m\u001b[0mhistory\u001b[0m\u001b[0;34m[\u001b[0m\u001b[0;34m'val_loss'\u001b[0m\u001b[0;34m]\u001b[0m\u001b[0;34m)\u001b[0m\u001b[0;34m\u001b[0m\u001b[0;34m\u001b[0m\u001b[0m\n\u001b[0m\u001b[1;32m      3\u001b[0m \u001b[0mplt\u001b[0m\u001b[0;34m.\u001b[0m\u001b[0mtitle\u001b[0m\u001b[0;34m(\u001b[0m\u001b[0;34m'Model loss'\u001b[0m\u001b[0;34m)\u001b[0m\u001b[0;34m\u001b[0m\u001b[0;34m\u001b[0m\u001b[0m\n\u001b[1;32m      4\u001b[0m \u001b[0mplt\u001b[0m\u001b[0;34m.\u001b[0m\u001b[0mylabel\u001b[0m\u001b[0;34m(\u001b[0m\u001b[0;34m'Loss'\u001b[0m\u001b[0;34m)\u001b[0m\u001b[0;34m\u001b[0m\u001b[0;34m\u001b[0m\u001b[0m\n\u001b[1;32m      5\u001b[0m \u001b[0mplt\u001b[0m\u001b[0;34m.\u001b[0m\u001b[0mxlabel\u001b[0m\u001b[0;34m(\u001b[0m\u001b[0;34m'Epoch'\u001b[0m\u001b[0;34m)\u001b[0m\u001b[0;34m\u001b[0m\u001b[0;34m\u001b[0m\u001b[0m\n",
            "\u001b[0;31mKeyError\u001b[0m: 'val_loss'"
          ]
        },
        {
          "output_type": "display_data",
          "data": {
            "image/png": "[encoded data removed]",
            "text/plain": [
              "<Figure size 432x288 with 1 Axes>"
            ]
          },
          "metadata": {
            "tags": [],
            "needs_background": "light"
          }
        }
      ]
    },
    {
      "cell_type": "code",
      "metadata": {
        "id": "AeqLjHoJ61Rt"
      },
      "source": [
        ""
      ],
      "execution_count": null,
      "outputs": []
    }
  ]
}